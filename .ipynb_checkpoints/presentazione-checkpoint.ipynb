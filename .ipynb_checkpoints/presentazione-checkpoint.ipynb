{
 "cells": [
  {
   "cell_type": "markdown",
   "metadata": {},
   "source": [
    "# <span style=\"color:blue\">Pietro Daniele </span>\n",
    "---\n",
    "Lettera di presentazione collaborazione LCM\n",
    "\n",
    "---\n",
    "<p> Pietro Daniele <br> Cell: +39 349 076 3827 <br> Mail: pietro.daniele@studenti.unimi.it </p>\n",
    "\n",
    "---\n",
    "\n",
    "Spett. LCM staff\n",
    "\n",
    "Come lettera di presentazione mi è stato chiesto di raccontare la mia esperienza con Linux e l'informatica. Il mio primo contatto con il sistema operativo del pinguino è avvenuto nel più classico dei modi: un vecchio computer lento e pieno di virus. Una formattazione, svariate ricerce su youtube e passi falsi dopo, per la prima volta riuscii ad installare Ubuntu 14, utilizzandolo per tutto il primo anno di università (installando pure il temuto `ROOT`). In realtà non ero nuovo a \"smanettare\", infatti, avevo già moddato con `CyanogenMod` il mio tablet Samsung dell'epoca."
   ]
  },
  {
   "cell_type": "code",
   "execution_count": null,
   "metadata": {},
   "outputs": [],
   "source": []
  }
 ],
 "metadata": {
  "kernelspec": {
   "display_name": "Python 3",
   "language": "python",
   "name": "python3"
  },
  "language_info": {
   "codemirror_mode": {
    "name": "ipython",
    "version": 3
   },
   "file_extension": ".py",
   "mimetype": "text/x-python",
   "name": "python",
   "nbconvert_exporter": "python",
   "pygments_lexer": "ipython3",
   "version": "3.7.6"
  }
 },
 "nbformat": 4,
 "nbformat_minor": 4
}
