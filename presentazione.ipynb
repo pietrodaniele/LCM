{
 "cells": [
  {
   "cell_type": "markdown",
   "metadata": {},
   "source": [
    "# <span style=\"color:blue\">Pietro Daniele </span>\n",
    "---\n",
    "Lettera di presentazione collaborazione LCM\n",
    "\n",
    "---\n",
    "<p> Pietro Daniele <br> Cell: +39 349 076 3827 <br> pietro.daniele@studenti.unimi.it </p>\n",
    "\n",
    "---\n",
    "\n",
    "Spett. LCM staff\n",
    "\n"
   ]
  },
  {
   "cell_type": "code",
   "execution_count": null,
   "metadata": {},
   "outputs": [],
   "source": []
  },
  {
   "cell_type": "code",
   "execution_count": null,
   "metadata": {},
   "outputs": [],
   "source": []
  }
 ],
 "metadata": {
  "kernelspec": {
   "display_name": "Python 3",
   "language": "python",
   "name": "python3"
  },
  "language_info": {
   "codemirror_mode": {
    "name": "ipython",
    "version": 3
   },
   "file_extension": ".py",
   "mimetype": "text/x-python",
   "name": "python",
   "nbconvert_exporter": "python",
   "pygments_lexer": "ipython3",
   "version": "3.7.6"
  }
 },
 "nbformat": 4,
 "nbformat_minor": 4
}
